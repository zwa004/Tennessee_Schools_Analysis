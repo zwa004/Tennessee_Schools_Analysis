{
 "cells": [
  {
   "cell_type": "code",
   "execution_count": 98,
   "metadata": {},
   "outputs": [],
   "source": [
    "import pandas as pd\n",
    "import numpy as np\n",
    "import psycopg2\n",
    "from sqlalchemy.engine.create import create_engine\n",
    "import os"
   ]
  },
  {
   "cell_type": "code",
   "execution_count": 99,
   "metadata": {},
   "outputs": [],
   "source": [
    "# This notebook will be mainly used for cleaning and performing high level analysis of school testing data for Tennessee schools for the 2021-2022, 2020-2021, 2017-2018, and 2012-2013 schoo years.\n"
   ]
  },
  {
   "cell_type": "code",
   "execution_count": 100,
   "metadata": {},
   "outputs": [],
   "source": [
    "# Import the xslx/csv for each school year and convert to a dataframe\n",
    "read_sc22_df = pd.read_excel('Data/2022/school_assessment_file_suppressed_upd32323 (1).xlsx')\n",
    "read_sc21_df = pd.read_csv('Data/2021/school_assessment_file_suppressed_upd422.csv')\n",
    "read_sc18_df = pd.read_csv('Data/2018/data_2018_school_base.csv')\n",
    "read_sc13_df = pd.read_excel('Data/2013/data_2013_school_base.xlsx')\n",
    "\n",
    "sc13_df = read_sc13_df\n",
    "sc18_df = read_sc18_df\n",
    "sc21_df = read_sc21_df\n",
    "sc22_df = read_sc22_df"
   ]
  },
  {
   "cell_type": "code",
   "execution_count": 101,
   "metadata": {},
   "outputs": [
    {
     "name": "stdout",
     "output_type": "stream",
     "text": [
      "<class 'pandas.core.frame.DataFrame'>\n",
      "RangeIndex: 675534 entries, 0 to 675533\n",
      "Data columns (total 22 columns):\n",
      " #   Column                     Non-Null Count   Dtype \n",
      "---  ------                     --------------   ----- \n",
      " 0   year                       675534 non-null  int64 \n",
      " 1   system                     675534 non-null  int64 \n",
      " 2   system_name                675534 non-null  object\n",
      " 3   school                     675534 non-null  int64 \n",
      " 4   school_name                675534 non-null  object\n",
      " 5   test                       675534 non-null  object\n",
      " 6   subject                    675534 non-null  object\n",
      " 7   grade                      675534 non-null  object\n",
      " 8   student_group              675534 non-null  object\n",
      " 9   participation_rate         675534 non-null  object\n",
      " 10  enrolled                   675534 non-null  int64 \n",
      " 11  tested                     675534 non-null  int64 \n",
      " 12  valid_tests                675534 non-null  int64 \n",
      " 13  n_below                    675534 non-null  object\n",
      " 14  n_approaching              675534 non-null  object\n",
      " 15  n_met_expectations         675534 non-null  object\n",
      " 16  n_exceeded_expectations    675534 non-null  object\n",
      " 17  pct_below                  675534 non-null  object\n",
      " 18  pct_approaching            675534 non-null  object\n",
      " 19  pct_met_expectations       675534 non-null  object\n",
      " 20  pct_exceeded_expectations  675534 non-null  object\n",
      " 21  pct_met_exceeded           675534 non-null  object\n",
      "dtypes: int64(6), object(16)\n",
      "memory usage: 113.4+ MB\n",
      "<class 'pandas.core.frame.DataFrame'>\n",
      "RangeIndex: 646799 entries, 0 to 646798\n",
      "Data columns (total 22 columns):\n",
      " #   Column              Non-Null Count   Dtype \n",
      "---  ------              --------------   ----- \n",
      " 0   year                646799 non-null  int64 \n",
      " 1   system              646799 non-null  int64 \n",
      " 2   system_name         646799 non-null  object\n",
      " 3   school              646799 non-null  int64 \n",
      " 4   school_name         646799 non-null  object\n",
      " 5   test                646799 non-null  object\n",
      " 6   subject             646799 non-null  object\n",
      " 7   grade               646799 non-null  object\n",
      " 8   subgroup            646799 non-null  object\n",
      " 9   participation_rate  646799 non-null  object\n",
      " 10  enrolled            646799 non-null  int64 \n",
      " 11  tested              646799 non-null  int64 \n",
      " 12  valid_tests         646799 non-null  int64 \n",
      " 13  n_below             646799 non-null  object\n",
      " 14  n_approaching       646799 non-null  object\n",
      " 15  n_on_track          646799 non-null  object\n",
      " 16  n_mastered          646799 non-null  object\n",
      " 17  pct_below           646799 non-null  object\n",
      " 18  pct_approaching     646799 non-null  object\n",
      " 19  pct_on_track        646799 non-null  object\n",
      " 20  pct_mastered        646799 non-null  object\n",
      " 21  pct_on_mastered     646799 non-null  object\n",
      "dtypes: int64(6), object(16)\n",
      "memory usage: 108.6+ MB\n",
      "<class 'pandas.core.frame.DataFrame'>\n",
      "RangeIndex: 595171 entries, 0 to 595170\n",
      "Data columns (total 19 columns):\n",
      " #   Column           Non-Null Count   Dtype  \n",
      "---  ------           --------------   -----  \n",
      " 0   year             595171 non-null  int64  \n",
      " 1   system           595171 non-null  int64  \n",
      " 2   system_name      595171 non-null  object \n",
      " 3   school           595171 non-null  int64  \n",
      " 4   school_name      595171 non-null  object \n",
      " 5   test             595171 non-null  object \n",
      " 6   subject          595171 non-null  object \n",
      " 7   grade            595171 non-null  object \n",
      " 8   subgroup         595171 non-null  object \n",
      " 9   valid_tests      595171 non-null  float64\n",
      " 10  n_below          595171 non-null  object \n",
      " 11  n_approaching    595171 non-null  object \n",
      " 12  n_on_track       595171 non-null  object \n",
      " 13  n_mastered       595171 non-null  object \n",
      " 14  pct_below        595171 non-null  object \n",
      " 15  pct_approaching  595171 non-null  object \n",
      " 16  pct_on_track     595171 non-null  object \n",
      " 17  pct_mastered     595171 non-null  object \n",
      " 18  pct_on_mastered  595171 non-null  object \n",
      "dtypes: float64(1), int64(3), object(15)\n",
      "memory usage: 86.3+ MB\n",
      "<class 'pandas.core.frame.DataFrame'>\n",
      "RangeIndex: 420120 entries, 0 to 420119\n",
      "Data columns (total 19 columns):\n",
      " #   Column             Non-Null Count   Dtype \n",
      "---  ------             --------------   ----- \n",
      " 0   year               420120 non-null  int64 \n",
      " 1   system             420120 non-null  int64 \n",
      " 2   system_name        420120 non-null  object\n",
      " 3   school             420120 non-null  int64 \n",
      " 4   school_name        420120 non-null  object\n",
      " 5   subject            420120 non-null  object\n",
      " 6   grade              420120 non-null  object\n",
      " 7   subgroup           420120 non-null  object\n",
      " 8   valid_tests        273230 non-null  object\n",
      " 9   n_below_bsc        273230 non-null  object\n",
      " 10  n_bsc              273230 non-null  object\n",
      " 11  n_prof             273230 non-null  object\n",
      " 12  n_adv              273230 non-null  object\n",
      " 13  pct_below_bsc      273230 non-null  object\n",
      " 14  pct_bsc            273230 non-null  object\n",
      " 15  pct_prof           273230 non-null  object\n",
      " 16  pct_adv            273230 non-null  object\n",
      " 17  pct_bsc_and_below  273230 non-null  object\n",
      " 18  pct_prof_adv       273230 non-null  object\n",
      "dtypes: int64(3), object(16)\n",
      "memory usage: 60.9+ MB\n"
     ]
    }
   ],
   "source": [
    "# Check data types\n",
    "sc22_df.info()\n",
    "sc21_df.info()\n",
    "sc18_df.info()\n",
    "sc13_df.info()  "
   ]
  },
  {
   "cell_type": "code",
   "execution_count": 102,
   "metadata": {},
   "outputs": [],
   "source": [
    "# Asterisks represent negligible values in the scope of the data. Replace '*' and '**' with 0 for all columns\n",
    "# sc22_df.replace(['*', '**'], 0, inplace=True)\n",
    "# sc21_df.replace(['*', '**'], 0, inplace=True)\n"
   ]
  },
  {
   "cell_type": "code",
   "execution_count": 103,
   "metadata": {},
   "outputs": [
    {
     "data": {
      "text/plain": [
       "147"
      ]
     },
     "execution_count": 103,
     "metadata": {},
     "output_type": "execute_result"
    }
   ],
   "source": [
    "# Check if the number of school systems changed across the years\n",
    "sc22_df['system_name'].nunique()"
   ]
  },
  {
   "cell_type": "code",
   "execution_count": 104,
   "metadata": {},
   "outputs": [
    {
     "data": {
      "text/plain": [
       "147"
      ]
     },
     "execution_count": 104,
     "metadata": {},
     "output_type": "execute_result"
    }
   ],
   "source": [
    "sc21_df['system_name'].nunique()"
   ]
  },
  {
   "cell_type": "code",
   "execution_count": 105,
   "metadata": {},
   "outputs": [
    {
     "data": {
      "text/plain": [
       "1716"
      ]
     },
     "execution_count": 105,
     "metadata": {},
     "output_type": "execute_result"
    }
   ],
   "source": [
    "# Check if the number of schools changed across the years\n",
    "sc22_df['school_name'].nunique()"
   ]
  },
  {
   "cell_type": "code",
   "execution_count": 106,
   "metadata": {},
   "outputs": [
    {
     "data": {
      "text/plain": [
       "1671"
      ]
     },
     "execution_count": 106,
     "metadata": {},
     "output_type": "execute_result"
    }
   ],
   "source": [
    "# Check if the number of schools changed across the years\n",
    "sc21_df['school_name'].nunique()"
   ]
  },
  {
   "cell_type": "code",
   "execution_count": 107,
   "metadata": {},
   "outputs": [
    {
     "data": {
      "text/plain": [
       "year                         0\n",
       "system                       0\n",
       "system_name                  0\n",
       "school                       0\n",
       "school_name                  0\n",
       "test                         0\n",
       "subject                      0\n",
       "grade                        0\n",
       "student_group                0\n",
       "participation_rate           0\n",
       "enrolled                     0\n",
       "tested                       0\n",
       "valid_tests                  0\n",
       "n_below                      0\n",
       "n_approaching                0\n",
       "n_met_expectations           0\n",
       "n_exceeded_expectations      0\n",
       "pct_below                    0\n",
       "pct_approaching              0\n",
       "pct_met_expectations         0\n",
       "pct_exceeded_expectations    0\n",
       "pct_met_exceeded             0\n",
       "dtype: int64"
      ]
     },
     "execution_count": 107,
     "metadata": {},
     "output_type": "execute_result"
    }
   ],
   "source": [
    "# Check for null values\n",
    "sc22_df.isnull().sum()"
   ]
  },
  {
   "cell_type": "code",
   "execution_count": 108,
   "metadata": {},
   "outputs": [
    {
     "data": {
      "text/plain": [
       "year                  0\n",
       "system                0\n",
       "system_name           0\n",
       "school                0\n",
       "school_name           0\n",
       "test                  0\n",
       "subject               0\n",
       "grade                 0\n",
       "subgroup              0\n",
       "participation_rate    0\n",
       "enrolled              0\n",
       "tested                0\n",
       "valid_tests           0\n",
       "n_below               0\n",
       "n_approaching         0\n",
       "n_on_track            0\n",
       "n_mastered            0\n",
       "pct_below             0\n",
       "pct_approaching       0\n",
       "pct_on_track          0\n",
       "pct_mastered          0\n",
       "pct_on_mastered       0\n",
       "dtype: int64"
      ]
     },
     "execution_count": 108,
     "metadata": {},
     "output_type": "execute_result"
    }
   ],
   "source": [
    "# Check for null values in 2021\n",
    "sc21_df.isnull().sum()"
   ]
  },
  {
   "cell_type": "code",
   "execution_count": 109,
   "metadata": {},
   "outputs": [
    {
     "data": {
      "text/plain": [
       "22"
      ]
     },
     "execution_count": 109,
     "metadata": {},
     "output_type": "execute_result"
    }
   ],
   "source": [
    "# List unique values in student_group\n",
    "sc22_df['student_group'].nunique()"
   ]
  },
  {
   "cell_type": "code",
   "execution_count": 110,
   "metadata": {},
   "outputs": [
    {
     "data": {
      "text/plain": [
       "21"
      ]
     },
     "execution_count": 110,
     "metadata": {},
     "output_type": "execute_result"
    }
   ],
   "source": [
    "sc21_df['subgroup'].nunique()"
   ]
  },
  {
   "cell_type": "code",
   "execution_count": 111,
   "metadata": {},
   "outputs": [
    {
     "name": "stdout",
     "output_type": "stream",
     "text": [
      "          sc21_Columns               sc22_Columns\n",
      "0                 year                       year\n",
      "1               system                     system\n",
      "2          system_name                system_name\n",
      "3               school                     school\n",
      "4          school_name                school_name\n",
      "5                 test                       test\n",
      "6              subject                    subject\n",
      "7                grade                      grade\n",
      "8             subgroup              student_group\n",
      "9   participation_rate         participation_rate\n",
      "10            enrolled                   enrolled\n",
      "11              tested                     tested\n",
      "12         valid_tests                valid_tests\n",
      "13             n_below                    n_below\n",
      "14       n_approaching              n_approaching\n",
      "15          n_on_track         n_met_expectations\n",
      "16          n_mastered    n_exceeded_expectations\n",
      "17           pct_below                  pct_below\n",
      "18     pct_approaching            pct_approaching\n",
      "19        pct_on_track       pct_met_expectations\n",
      "20        pct_mastered  pct_exceeded_expectations\n",
      "21     pct_on_mastered           pct_met_exceeded\n"
     ]
    }
   ],
   "source": [
    "# Create a new DataFrame with column headers from sc21_df and sc22_df\n",
    "column_comparison_df = pd.DataFrame({'sc21_Columns': sc21_df.columns, 'sc22_Columns': sc22_df.columns})\n",
    "\n",
    "print(column_comparison_df)\n"
   ]
  },
  {
   "cell_type": "code",
   "execution_count": 112,
   "metadata": {},
   "outputs": [
    {
     "name": "stdout",
     "output_type": "stream",
     "text": [
      "                     sc21_col                   sc22_col\n",
      "0                        year                       year\n",
      "1                      system                     system\n",
      "2                 system_name                system_name\n",
      "3                      school                     school\n",
      "4                 school_name                school_name\n",
      "5                        test                       test\n",
      "6                     subject                    subject\n",
      "7                       grade                      grade\n",
      "8               student_group              student_group\n",
      "9          participation_rate         participation_rate\n",
      "10                   enrolled                   enrolled\n",
      "11                     tested                     tested\n",
      "12                valid_tests                valid_tests\n",
      "13                    n_below                    n_below\n",
      "14              n_approaching              n_approaching\n",
      "15         n_met_expectations         n_met_expectations\n",
      "16    n_exceeded_expectations    n_exceeded_expectations\n",
      "17                  pct_below                  pct_below\n",
      "18            pct_approaching            pct_approaching\n",
      "19       pct_met_expectations       pct_met_expectations\n",
      "20  pct_exceeded_expectations  pct_exceeded_expectations\n",
      "21           pct_met_exceeded           pct_met_exceeded\n"
     ]
    }
   ],
   "source": [
    "# Rename columns in sc21 to match sc22\n",
    "sc21_df = sc21_df.rename(columns={'subgroup': 'student_group', 'n_on_track': 'n_met_expectations','n_mastered': 'n_exceeded_expectations', 'pct_on_track': 'pct_met_expectations','pct_mastered': 'pct_exceeded_expectations', 'pct_on_mastered': 'pct_met_exceeded'})\n",
    "column_comparison_after_df = pd.DataFrame({'sc21_col': sc21_df.columns, 'sc22_col': sc22_df.columns})\n",
    "print(column_comparison_after_df)\n"
   ]
  },
  {
   "cell_type": "code",
   "execution_count": 113,
   "metadata": {},
   "outputs": [
    {
     "data": {
      "text/plain": [
       "array(['Algebra I', 'Algebra II', 'Biology I', 'English I', 'English II',\n",
       "       'Geometry', 'US History', 'ELA', 'Math', 'Science',\n",
       "       'Social Studies', 'Integrated Math I', 'Integrated Math II',\n",
       "       'Integrated Math III'], dtype=object)"
      ]
     },
     "execution_count": 113,
     "metadata": {},
     "output_type": "execute_result"
    }
   ],
   "source": [
    "# List the tests taken in 2022\n",
    "sc22_df['subject'].unique()"
   ]
  },
  {
   "cell_type": "code",
   "execution_count": 114,
   "metadata": {},
   "outputs": [
    {
     "data": {
      "text/plain": [
       "array(['Algebra I', 'Algebra II', 'Biology I', 'English I', 'English II',\n",
       "       'Geometry', 'US History', 'ELA', 'Math', 'Science',\n",
       "       'Social Studies', 'Integrated Math I', 'Integrated Math II',\n",
       "       'Integrated Math III'], dtype=object)"
      ]
     },
     "execution_count": 114,
     "metadata": {},
     "output_type": "execute_result"
    }
   ],
   "source": [
    "sc21_df['subject'].unique()"
   ]
  },
  {
   "cell_type": "code",
   "execution_count": 115,
   "metadata": {},
   "outputs": [
    {
     "data": {
      "text/plain": [
       "array(['10', '11', '9', 'All Grades', 'Missing Grade', '12', '8', '4',\n",
       "       '7', '3', '5', '6'], dtype=object)"
      ]
     },
     "execution_count": 115,
     "metadata": {},
     "output_type": "execute_result"
    }
   ],
   "source": [
    "# List the unique names of the grades in the df\n",
    "sc22_df['grade'].unique()"
   ]
  },
  {
   "cell_type": "code",
   "execution_count": 116,
   "metadata": {},
   "outputs": [
    {
     "data": {
      "text/plain": [
       "array(['10', '11', '12', '9', 'All Grades', '5', '3', '4', '8', '6', '7',\n",
       "       'Missing Grade'], dtype=object)"
      ]
     },
     "execution_count": 116,
     "metadata": {},
     "output_type": "execute_result"
    }
   ],
   "source": [
    "sc21_df['grade'].unique()"
   ]
  },
  {
   "cell_type": "code",
   "execution_count": 117,
   "metadata": {},
   "outputs": [],
   "source": [
    "# Filter both df's to include only 9-12th graders\n",
    "# Define the list of grades to keep\n",
    "grades_to_keep = ['9', '10', '11', '12']\n",
    "\n",
    "# Filter sc21_df and sc22_df to keep only rows with the specified grades\n",
    "sc21_df = sc21_df[sc21_df['grade'].isin(grades_to_keep)]\n",
    "sc22_df = sc22_df[sc22_df['grade'].isin(grades_to_keep)]"
   ]
  },
  {
   "cell_type": "code",
   "execution_count": 125,
   "metadata": {},
   "outputs": [
    {
     "data": {
      "text/html": [
       "<div>\n",
       "<style scoped>\n",
       "    .dataframe tbody tr th:only-of-type {\n",
       "        vertical-align: middle;\n",
       "    }\n",
       "\n",
       "    .dataframe tbody tr th {\n",
       "        vertical-align: top;\n",
       "    }\n",
       "\n",
       "    .dataframe thead th {\n",
       "        text-align: right;\n",
       "    }\n",
       "</style>\n",
       "<table border=\"1\" class=\"dataframe\">\n",
       "  <thead>\n",
       "    <tr style=\"text-align: right;\">\n",
       "      <th></th>\n",
       "      <th>Subject</th>\n",
       "      <th>Total Tested 2021</th>\n",
       "      <th>Total Tested 2022</th>\n",
       "      <th>Percent Change</th>\n",
       "    </tr>\n",
       "  </thead>\n",
       "  <tbody>\n",
       "    <tr>\n",
       "      <th>0</th>\n",
       "      <td>Algebra I</td>\n",
       "      <td>51526</td>\n",
       "      <td>58434</td>\n",
       "      <td>13.4%</td>\n",
       "    </tr>\n",
       "    <tr>\n",
       "      <th>1</th>\n",
       "      <td>Algebra II</td>\n",
       "      <td>48716</td>\n",
       "      <td>53409</td>\n",
       "      <td>9.6%</td>\n",
       "    </tr>\n",
       "    <tr>\n",
       "      <th>2</th>\n",
       "      <td>Biology I</td>\n",
       "      <td>62925</td>\n",
       "      <td>73175</td>\n",
       "      <td>16.3%</td>\n",
       "    </tr>\n",
       "    <tr>\n",
       "      <th>3</th>\n",
       "      <td>English I</td>\n",
       "      <td>68868</td>\n",
       "      <td>75458</td>\n",
       "      <td>9.6%</td>\n",
       "    </tr>\n",
       "    <tr>\n",
       "      <th>4</th>\n",
       "      <td>English II</td>\n",
       "      <td>65391</td>\n",
       "      <td>71439</td>\n",
       "      <td>9.2%</td>\n",
       "    </tr>\n",
       "    <tr>\n",
       "      <th>5</th>\n",
       "      <td>Geometry</td>\n",
       "      <td>53279</td>\n",
       "      <td>57570</td>\n",
       "      <td>8.1%</td>\n",
       "    </tr>\n",
       "    <tr>\n",
       "      <th>6</th>\n",
       "      <td>US History</td>\n",
       "      <td>37652</td>\n",
       "      <td>39147</td>\n",
       "      <td>4.0%</td>\n",
       "    </tr>\n",
       "    <tr>\n",
       "      <th>7</th>\n",
       "      <td>Total</td>\n",
       "      <td>388357</td>\n",
       "      <td>428632</td>\n",
       "      <td>10.4%</td>\n",
       "    </tr>\n",
       "  </tbody>\n",
       "</table>\n",
       "</div>"
      ],
      "text/plain": [
       "      Subject  Total Tested 2021  Total Tested 2022 Percent Change\n",
       "0   Algebra I              51526              58434          13.4%\n",
       "1  Algebra II              48716              53409           9.6%\n",
       "2   Biology I              62925              73175          16.3%\n",
       "3   English I              68868              75458           9.6%\n",
       "4  English II              65391              71439           9.2%\n",
       "5    Geometry              53279              57570           8.1%\n",
       "6  US History              37652              39147           4.0%\n",
       "7       Total             388357             428632          10.4%"
      ]
     },
     "execution_count": 125,
     "metadata": {},
     "output_type": "execute_result"
    }
   ],
   "source": [
    "# Count the number of each test submitted in both the dataframes.\n",
    "# 2021\n",
    "alg1_total_tested_sc21 = sc21_df.loc[(sc21_df['student_group'] == 'All Students') & (sc21_df['subject'] == 'Algebra I'), 'tested'].sum()\n",
    "alg2_total_tested_sc21 = sc21_df.loc[(sc21_df['student_group'] == 'All Students') & (sc21_df['subject'] == 'Algebra II'), 'tested'].sum()\n",
    "bio1_total_tested_sc21 = sc21_df.loc[(sc21_df['student_group'] == 'All Students') & (sc21_df['subject'] == 'Biology I'), 'tested'].sum()\n",
    "eng1_total_tested_sc21 = sc21_df.loc[(sc21_df['student_group'] == 'All Students') & (sc21_df['subject'] == 'English I'), 'tested'].sum()\n",
    "eng2_total_tested_sc21 = sc21_df.loc[(sc21_df['student_group'] == 'All Students') & (sc21_df['subject'] == 'English II'), 'tested'].sum()\n",
    "geom_total_tested_sc21 = sc21_df.loc[(sc21_df['student_group'] == 'All Students') & (sc21_df['subject'] == 'Geometry'), 'tested'].sum()\n",
    "ush_total_tested_sc21 = sc21_df.loc[(sc21_df['student_group'] == 'All Students') & (sc21_df['subject'] == 'US History'), 'tested'].sum()\n",
    "total_tests_sc21 = (\n",
    "    alg1_total_tested_sc21\n",
    "    + alg2_total_tested_sc21\n",
    "    + bio1_total_tested_sc21\n",
    "    + eng1_total_tested_sc21\n",
    "    + eng2_total_tested_sc21\n",
    "    + geom_total_tested_sc21\n",
    "    + ush_total_tested_sc21\n",
    ")\n",
    "\n",
    "\n",
    "# 2022\n",
    "alg1_total_tested_sc22 = sc22_df.loc[(sc22_df['student_group'] == 'All Students') & (sc22_df['subject'] == 'Algebra I'), 'tested'].sum()\n",
    "alg2_total_tested_sc22 = sc22_df.loc[(sc22_df['student_group'] == 'All Students') & (sc22_df['subject'] == 'Algebra II'), 'tested'].sum()\n",
    "bio1_total_tested_sc22 = sc22_df.loc[(sc22_df['student_group'] == 'All Students') & (sc22_df['subject'] == 'Biology I'), 'tested'].sum()\n",
    "eng1_total_tested_sc22 = sc22_df.loc[(sc22_df['student_group'] == 'All Students') & (sc22_df['subject'] == 'English I'), 'tested'].sum()\n",
    "eng2_total_tested_sc22 = sc22_df.loc[(sc22_df['student_group'] == 'All Students') & (sc22_df['subject'] == 'English II'), 'tested'].sum()\n",
    "geom_total_tested_sc22 = sc22_df.loc[(sc22_df['student_group'] == 'All Students') & (sc22_df['subject'] == 'Geometry'), 'tested'].sum()\n",
    "ush_total_tested_sc22 = sc22_df.loc[(sc22_df['student_group'] == 'All Students') & (sc22_df['subject'] == 'US History'), 'tested'].sum()\n",
    "total_tests_sc22 = (\n",
    "    alg1_total_tested_sc22\n",
    "    + alg2_total_tested_sc22\n",
    "    + bio1_total_tested_sc22\n",
    "    + eng1_total_tested_sc22\n",
    "    + eng2_total_tested_sc22\n",
    "    + geom_total_tested_sc22\n",
    "    + ush_total_tested_sc22\n",
    ")\n",
    "\n",
    "# Create a dictionary with the data\n",
    "data = {\n",
    "    'Subject': ['Algebra I', 'Algebra II', 'Biology I', 'English I', 'English II', 'Geometry', 'US History', 'Total'],\n",
    "    'Total Tested 2021': [\n",
    "        alg1_total_tested_sc21,\n",
    "        alg2_total_tested_sc21,\n",
    "        bio1_total_tested_sc21,\n",
    "        eng1_total_tested_sc21,\n",
    "        eng2_total_tested_sc21,\n",
    "        geom_total_tested_sc21,\n",
    "        ush_total_tested_sc21,\n",
    "        total_tests_sc21\n",
    "    ],\n",
    "    'Total Tested 2022': [\n",
    "        alg1_total_tested_sc22,\n",
    "        alg2_total_tested_sc22,\n",
    "        bio1_total_tested_sc22,  \n",
    "        eng1_total_tested_sc22,  \n",
    "        eng2_total_tested_sc22,  \n",
    "        geom_total_tested_sc22,  \n",
    "        ush_total_tested_sc22,\n",
    "        total_tests_sc22  \n",
    "    ],\n",
    "}\n",
    "\n",
    "# Create the DataFrame using the dictionary\n",
    "tot_comparison_df = pd.DataFrame(data)\n",
    "\n",
    "# Calculate the percent change\n",
    "tot_comparison_df['Percent Change'] = (\n",
    "    (tot_comparison_df['Total Tested 2022'] - tot_comparison_df['Total Tested 2021'])\n",
    "    / tot_comparison_df['Total Tested 2021']\n",
    ") * 100\n",
    "\n",
    "# Format the percent change column with the desired number of significant figures and a '%' symbol\n",
    "tot_comparison_df['Percent Change'] = tot_comparison_df['Percent Change'].apply(lambda x: f'{x:.1f}%')\n",
    "\n",
    "# Display the updated DataFrame\n",
    "tot_comparison_df\n",
    "\n"
   ]
  },
  {
   "cell_type": "code",
   "execution_count": 133,
   "metadata": {},
   "outputs": [
    {
     "data": {
      "text/html": [
       "<div>\n",
       "<style scoped>\n",
       "    .dataframe tbody tr th:only-of-type {\n",
       "        vertical-align: middle;\n",
       "    }\n",
       "\n",
       "    .dataframe tbody tr th {\n",
       "        vertical-align: top;\n",
       "    }\n",
       "\n",
       "    .dataframe thead th {\n",
       "        text-align: right;\n",
       "    }\n",
       "</style>\n",
       "<table border=\"1\" class=\"dataframe\">\n",
       "  <thead>\n",
       "    <tr style=\"text-align: right;\">\n",
       "      <th></th>\n",
       "      <th>Algebra I</th>\n",
       "      <th>2021</th>\n",
       "      <th>2022</th>\n",
       "      <th>Percent Change</th>\n",
       "    </tr>\n",
       "  </thead>\n",
       "  <tbody>\n",
       "    <tr>\n",
       "      <th>0</th>\n",
       "      <td>9th Grade</td>\n",
       "      <td>47384</td>\n",
       "      <td>53262</td>\n",
       "      <td>12.4%</td>\n",
       "    </tr>\n",
       "    <tr>\n",
       "      <th>1</th>\n",
       "      <td>10th Grade</td>\n",
       "      <td>3699</td>\n",
       "      <td>4659</td>\n",
       "      <td>26.0%</td>\n",
       "    </tr>\n",
       "    <tr>\n",
       "      <th>2</th>\n",
       "      <td>11th Grade</td>\n",
       "      <td>320</td>\n",
       "      <td>396</td>\n",
       "      <td>23.8%</td>\n",
       "    </tr>\n",
       "    <tr>\n",
       "      <th>3</th>\n",
       "      <td>12th Grade</td>\n",
       "      <td>123</td>\n",
       "      <td>117</td>\n",
       "      <td>-4.9%</td>\n",
       "    </tr>\n",
       "  </tbody>\n",
       "</table>\n",
       "</div>"
      ],
      "text/plain": [
       "    Algebra I   2021   2022 Percent Change\n",
       "0   9th Grade  47384  53262          12.4%\n",
       "1  10th Grade   3699   4659          26.0%\n",
       "2  11th Grade    320    396          23.8%\n",
       "3  12th Grade    123    117          -4.9%"
      ]
     },
     "execution_count": 133,
     "metadata": {},
     "output_type": "execute_result"
    }
   ],
   "source": [
    "# There's a large jump in test takers for Algebra I and Biology I. Let's dive deeper:\n",
    "alg1_9_tested_sc21 = sc21_df.loc[(sc21_df['student_group'] == 'All Students') & (sc21_df['grade'] == '9') & (sc21_df['subject'] == 'Algebra I'), 'tested'].sum()\n",
    "alg1_10_tested_sc21 = sc21_df.loc[(sc21_df['student_group'] == 'All Students') & (sc21_df['grade'] == '10') & (sc21_df['subject'] == 'Algebra I'), 'tested'].sum()\n",
    "alg1_11_tested_sc21 = sc21_df.loc[(sc21_df['student_group'] == 'All Students') & (sc21_df['grade'] == '11') & (sc21_df['subject'] == 'Algebra I'), 'tested'].sum()\n",
    "alg1_12_tested_sc21 = sc21_df.loc[(sc21_df['student_group'] == 'All Students') & (sc21_df['grade'] == '12') & (sc21_df['subject'] == 'Algebra I'), 'tested'].sum()\n",
    "\n",
    "alg1_9_tested_sc22 = sc22_df.loc[(sc22_df['student_group'] == 'All Students') & (sc22_df['grade'] == '9') & (sc22_df['subject'] == 'Algebra I'), 'tested'].sum()\n",
    "alg1_10_tested_sc22 = sc22_df.loc[(sc22_df['student_group'] == 'All Students') & (sc22_df['grade'] == '10') & (sc22_df['subject'] == 'Algebra I'), 'tested'].sum()\n",
    "alg1_11_tested_sc22 = sc22_df.loc[(sc22_df['student_group'] == 'All Students') & (sc22_df['grade'] == '11') & (sc22_df['subject'] == 'Algebra I'), 'tested'].sum()\n",
    "alg1_12_tested_sc22 = sc22_df.loc[(sc22_df['student_group'] == 'All Students') & (sc22_df['grade'] == '12') & (sc22_df['subject'] == 'Algebra I'), 'tested'].sum()\n",
    "\n",
    "\n",
    "alg1_data = {\n",
    "    'Algebra I': ['9th Grade', '10th Grade', '11th Grade', '12th Grade'], '2021': [alg1_9_tested_sc21, alg1_10_tested_sc21, alg1_11_tested_sc21, alg1_12_tested_sc21], 'Algebra I': ['9th Grade', '10th Grade', '11th Grade', '12th Grade'], '2022': [alg1_9_tested_sc22, alg1_10_tested_sc22, alg1_11_tested_sc22, alg1_12_tested_sc22]\n",
    "}\n",
    "\n",
    "alg1_testers_df = pd.DataFrame(alg1_data)\n",
    "\n",
    "# Calculate the percentage change in test takers for Algebra I\n",
    "alg1_testers_df['Percent Change'] = (alg1_testers_df['2022'] - alg1_testers_df['2021']) / alg1_testers_df['2021'] * 100\n",
    "alg1_testers_df['Percent Change'] = alg1_testers_df['Percent Change'].apply(lambda x: f'{x:.1f}%')\n",
    "\n",
    "\n",
    "alg1_testers_df\n"
   ]
  },
  {
   "cell_type": "code",
   "execution_count": 134,
   "metadata": {},
   "outputs": [
    {
     "data": {
      "text/html": [
       "<div>\n",
       "<style scoped>\n",
       "    .dataframe tbody tr th:only-of-type {\n",
       "        vertical-align: middle;\n",
       "    }\n",
       "\n",
       "    .dataframe tbody tr th {\n",
       "        vertical-align: top;\n",
       "    }\n",
       "\n",
       "    .dataframe thead th {\n",
       "        text-align: right;\n",
       "    }\n",
       "</style>\n",
       "<table border=\"1\" class=\"dataframe\">\n",
       "  <thead>\n",
       "    <tr style=\"text-align: right;\">\n",
       "      <th></th>\n",
       "      <th>Biology I</th>\n",
       "      <th>2021</th>\n",
       "      <th>2022</th>\n",
       "      <th>Percent Change</th>\n",
       "    </tr>\n",
       "  </thead>\n",
       "  <tbody>\n",
       "    <tr>\n",
       "      <th>0</th>\n",
       "      <td>9th Grade</td>\n",
       "      <td>24986</td>\n",
       "      <td>26785</td>\n",
       "      <td>7.2%</td>\n",
       "    </tr>\n",
       "    <tr>\n",
       "      <th>1</th>\n",
       "      <td>10th Grade</td>\n",
       "      <td>31001</td>\n",
       "      <td>36615</td>\n",
       "      <td>18.1%</td>\n",
       "    </tr>\n",
       "    <tr>\n",
       "      <th>2</th>\n",
       "      <td>11th Grade</td>\n",
       "      <td>6211</td>\n",
       "      <td>8762</td>\n",
       "      <td>41.1%</td>\n",
       "    </tr>\n",
       "    <tr>\n",
       "      <th>3</th>\n",
       "      <td>12th Grade</td>\n",
       "      <td>727</td>\n",
       "      <td>1013</td>\n",
       "      <td>39.3%</td>\n",
       "    </tr>\n",
       "  </tbody>\n",
       "</table>\n",
       "</div>"
      ],
      "text/plain": [
       "    Biology I   2021   2022 Percent Change\n",
       "0   9th Grade  24986  26785           7.2%\n",
       "1  10th Grade  31001  36615          18.1%\n",
       "2  11th Grade   6211   8762          41.1%\n",
       "3  12th Grade    727   1013          39.3%"
      ]
     },
     "execution_count": 134,
     "metadata": {},
     "output_type": "execute_result"
    }
   ],
   "source": [
    "bio1_9_tested_sc21 = sc21_df.loc[(sc21_df['student_group'] == 'All Students') & (sc21_df['grade'] == '9') & (sc21_df['subject'] == 'Biology I'), 'tested'].sum()\n",
    "bio1_10_tested_sc21 = sc21_df.loc[(sc21_df['student_group'] == 'All Students') & (sc21_df['grade'] == '10') & (sc21_df['subject'] == 'Biology I'), 'tested'].sum()\n",
    "bio1_11_tested_sc21 = sc21_df.loc[(sc21_df['student_group'] == 'All Students') & (sc21_df['grade'] == '11') & (sc21_df['subject'] == 'Biology I'), 'tested'].sum()\n",
    "bio1_12_tested_sc21 = sc21_df.loc[(sc21_df['student_group'] == 'All Students') & (sc21_df['grade'] == '12') & (sc21_df['subject'] == 'Biology I'), 'tested'].sum()\n",
    "\n",
    "bio1_9_tested_sc22 = sc22_df.loc[(sc22_df['student_group'] == 'All Students') & (sc22_df['grade'] == '9') & (sc22_df['subject'] == 'Biology I'), 'tested'].sum()\n",
    "bio1_10_tested_sc22 = sc22_df.loc[(sc22_df['student_group'] == 'All Students') & (sc22_df['grade'] == '10') & (sc22_df['subject'] == 'Biology I'), 'tested'].sum()\n",
    "bio1_11_tested_sc22 = sc22_df.loc[(sc22_df['student_group'] == 'All Students') & (sc22_df['grade'] == '11') & (sc22_df['subject'] == 'Biology I'), 'tested'].sum()\n",
    "bio1_12_tested_sc22 = sc22_df.loc[(sc22_df['student_group'] == 'All Students') & (sc22_df['grade'] == '12') & (sc22_df['subject'] == 'Biology I'), 'tested'].sum()\n",
    "\n",
    "bio1_data = {\n",
    "    'Biology I': ['9th Grade', '10th Grade', '11th Grade', '12th Grade'], '2021': [bio1_9_tested_sc21, bio1_10_tested_sc21, bio1_11_tested_sc21, bio1_12_tested_sc21], 'Biology I': ['9th Grade', '10th Grade', '11th Grade', '12th Grade'], '2022': [bio1_9_tested_sc22, bio1_10_tested_sc22, bio1_11_tested_sc22, bio1_12_tested_sc22]\n",
    "}\n",
    "\n",
    "bio1_testers_df = pd.DataFrame(bio1_data)\n",
    "\n",
    "# Calculate the percentage change in test takers for Biology I\n",
    "bio1_testers_df['Percent Change'] = (bio1_testers_df['2022'] - bio1_testers_df['2021']) / bio1_testers_df['2021'] * 100\n",
    "bio1_testers_df['Percent Change'] = bio1_testers_df['Percent Change'].apply(lambda x: f'{x:.1f}%')\n",
    "\n",
    "bio1_testers_df"
   ]
  },
  {
   "cell_type": "code",
   "execution_count": 119,
   "metadata": {},
   "outputs": [],
   "source": [
    "# The data has supressed rows where percentages for are below 1% or above 99% for the Below, Approaching, etc categories. These rows will be removed. 'pct_met_expected' is the aggregate percentage of valid tests that met expectations and exceeded expecatations "
   ]
  }
 ],
 "metadata": {
  "kernelspec": {
   "display_name": "mlenv",
   "language": "python",
   "name": "mlenv"
  },
  "language_info": {
   "codemirror_mode": {
    "name": "ipython",
    "version": 3
   },
   "file_extension": ".py",
   "mimetype": "text/x-python",
   "name": "python",
   "nbconvert_exporter": "python",
   "pygments_lexer": "ipython3",
   "version": "3.9.16"
  },
  "orig_nbformat": 4
 },
 "nbformat": 4,
 "nbformat_minor": 2
}
